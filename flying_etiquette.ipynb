{
 "cells": [
  {
   "cell_type": "code",
   "execution_count": 57,
   "id": "9b0afadd-5c39-4b6b-b7b9-352c8d17dd1e",
   "metadata": {},
   "outputs": [],
   "source": [
    "import pandas as pd\n",
    "import seaborn as sns"
   ]
  },
  {
   "cell_type": "code",
   "execution_count": 58,
   "id": "736380c5-e202-43bf-8edb-ddf9409fc7b3",
   "metadata": {},
   "outputs": [],
   "source": [
    "flying_df = pd.read_csv('flying-etiquette.csv')"
   ]
  },
  {
   "cell_type": "code",
   "execution_count": 59,
   "id": "727fbc9a-ed2d-4469-b3f6-65cf4c9987c0",
   "metadata": {},
   "outputs": [
    {
     "data": {
      "text/html": [
       "<div>\n",
       "<style scoped>\n",
       "    .dataframe tbody tr th:only-of-type {\n",
       "        vertical-align: middle;\n",
       "    }\n",
       "\n",
       "    .dataframe tbody tr th {\n",
       "        vertical-align: top;\n",
       "    }\n",
       "\n",
       "    .dataframe thead th {\n",
       "        text-align: right;\n",
       "    }\n",
       "</style>\n",
       "<table border=\"1\" class=\"dataframe\">\n",
       "  <thead>\n",
       "    <tr style=\"text-align: right;\">\n",
       "      <th></th>\n",
       "      <th>RespondentID</th>\n",
       "      <th>How often do you travel by plane?</th>\n",
       "      <th>Do you ever recline your seat when you fly?</th>\n",
       "      <th>How tall are you?</th>\n",
       "      <th>Do you have any children under 18?</th>\n",
       "      <th>In a row of three seats, who should get to use the two arm rests?</th>\n",
       "      <th>In a row of two seats, who should get to use the middle arm rest?</th>\n",
       "      <th>Who should have control over the window shade?</th>\n",
       "      <th>Is itrude to move to an unsold seat on a plane?</th>\n",
       "      <th>Generally speaking, is it rude to say more than a few words tothe stranger sitting next to you on a plane?</th>\n",
       "      <th>...</th>\n",
       "      <th>Is itrude to wake a passenger up if you are trying to walk around?</th>\n",
       "      <th>In general, is itrude to bring a baby on a plane?</th>\n",
       "      <th>In general, is it rude to knowingly bring unruly children on a plane?</th>\n",
       "      <th>Have you ever used personal electronics during take off or landing in violation of a flight attendant's direction?</th>\n",
       "      <th>Have you ever smoked a cigarette in an airplane bathroom when it was against the rules?</th>\n",
       "      <th>Gender</th>\n",
       "      <th>Age</th>\n",
       "      <th>Household Income</th>\n",
       "      <th>Education</th>\n",
       "      <th>Location (Census Region)</th>\n",
       "    </tr>\n",
       "  </thead>\n",
       "  <tbody>\n",
       "    <tr>\n",
       "      <th>0</th>\n",
       "      <td>3436139758</td>\n",
       "      <td>Once a year or less</td>\n",
       "      <td>NaN</td>\n",
       "      <td>NaN</td>\n",
       "      <td>NaN</td>\n",
       "      <td>NaN</td>\n",
       "      <td>NaN</td>\n",
       "      <td>NaN</td>\n",
       "      <td>NaN</td>\n",
       "      <td>NaN</td>\n",
       "      <td>...</td>\n",
       "      <td>NaN</td>\n",
       "      <td>NaN</td>\n",
       "      <td>NaN</td>\n",
       "      <td>NaN</td>\n",
       "      <td>NaN</td>\n",
       "      <td>NaN</td>\n",
       "      <td>NaN</td>\n",
       "      <td>NaN</td>\n",
       "      <td>NaN</td>\n",
       "      <td>NaN</td>\n",
       "    </tr>\n",
       "    <tr>\n",
       "      <th>1</th>\n",
       "      <td>3434278696</td>\n",
       "      <td>Once a year or less</td>\n",
       "      <td>About half the time</td>\n",
       "      <td>6'3\"</td>\n",
       "      <td>Yes</td>\n",
       "      <td>The arm rests should be shared</td>\n",
       "      <td>The arm rests should be shared</td>\n",
       "      <td>Everyone in the row should have some say</td>\n",
       "      <td>No, not rude at all</td>\n",
       "      <td>No, not at all rude</td>\n",
       "      <td>...</td>\n",
       "      <td>No, not at all rude</td>\n",
       "      <td>No, not at all rude</td>\n",
       "      <td>No, not at all rude</td>\n",
       "      <td>No</td>\n",
       "      <td>No</td>\n",
       "      <td>Male</td>\n",
       "      <td>30-44</td>\n",
       "      <td>NaN</td>\n",
       "      <td>Graduate degree</td>\n",
       "      <td>Pacific</td>\n",
       "    </tr>\n",
       "    <tr>\n",
       "      <th>2</th>\n",
       "      <td>3434275578</td>\n",
       "      <td>Once a year or less</td>\n",
       "      <td>Usually</td>\n",
       "      <td>5'8\"</td>\n",
       "      <td>No</td>\n",
       "      <td>Whoever puts their arm on the arm rest first</td>\n",
       "      <td>The arm rests should be shared</td>\n",
       "      <td>The person in the window seat should have excl...</td>\n",
       "      <td>No, not rude at all</td>\n",
       "      <td>No, not at all rude</td>\n",
       "      <td>...</td>\n",
       "      <td>Yes, somewhat rude</td>\n",
       "      <td>Yes, somewhat rude</td>\n",
       "      <td>Yes, very rude</td>\n",
       "      <td>No</td>\n",
       "      <td>No</td>\n",
       "      <td>Male</td>\n",
       "      <td>30-44</td>\n",
       "      <td>$100,000 - $149,999</td>\n",
       "      <td>Bachelor degree</td>\n",
       "      <td>Pacific</td>\n",
       "    </tr>\n",
       "    <tr>\n",
       "      <th>3</th>\n",
       "      <td>3434268208</td>\n",
       "      <td>Once a year or less</td>\n",
       "      <td>Always</td>\n",
       "      <td>5'11\"</td>\n",
       "      <td>No</td>\n",
       "      <td>The arm rests should be shared</td>\n",
       "      <td>The arm rests should be shared</td>\n",
       "      <td>Everyone in the row should have some say</td>\n",
       "      <td>No, not rude at all</td>\n",
       "      <td>No, not at all rude</td>\n",
       "      <td>...</td>\n",
       "      <td>Yes, somewhat rude</td>\n",
       "      <td>Yes, somewhat rude</td>\n",
       "      <td>Yes, very rude</td>\n",
       "      <td>No</td>\n",
       "      <td>No</td>\n",
       "      <td>Male</td>\n",
       "      <td>30-44</td>\n",
       "      <td>$0 - $24,999</td>\n",
       "      <td>Bachelor degree</td>\n",
       "      <td>Pacific</td>\n",
       "    </tr>\n",
       "    <tr>\n",
       "      <th>4</th>\n",
       "      <td>3434250245</td>\n",
       "      <td>Once a month or less</td>\n",
       "      <td>About half the time</td>\n",
       "      <td>5'7\"</td>\n",
       "      <td>No</td>\n",
       "      <td>The person in the middle seat gets both arm rests</td>\n",
       "      <td>The person in aisle</td>\n",
       "      <td>Everyone in the row should have some say</td>\n",
       "      <td>No, not rude at all</td>\n",
       "      <td>No, not at all rude</td>\n",
       "      <td>...</td>\n",
       "      <td>Yes, somewhat rude</td>\n",
       "      <td>Yes, somewhat rude</td>\n",
       "      <td>Yes, very rude</td>\n",
       "      <td>Yes</td>\n",
       "      <td>No</td>\n",
       "      <td>Male</td>\n",
       "      <td>30-44</td>\n",
       "      <td>$50,000 - $99,999</td>\n",
       "      <td>Bachelor degree</td>\n",
       "      <td>Pacific</td>\n",
       "    </tr>\n",
       "  </tbody>\n",
       "</table>\n",
       "<p>5 rows × 27 columns</p>\n",
       "</div>"
      ],
      "text/plain": [
       "   RespondentID How often do you travel by plane?  \\\n",
       "0    3436139758               Once a year or less   \n",
       "1    3434278696               Once a year or less   \n",
       "2    3434275578               Once a year or less   \n",
       "3    3434268208               Once a year or less   \n",
       "4    3434250245              Once a month or less   \n",
       "\n",
       "  Do you ever recline your seat when you fly? How tall are you?  \\\n",
       "0                                         NaN               NaN   \n",
       "1                         About half the time              6'3\"   \n",
       "2                                     Usually              5'8\"   \n",
       "3                                      Always             5'11\"   \n",
       "4                         About half the time              5'7\"   \n",
       "\n",
       "  Do you have any children under 18?  \\\n",
       "0                                NaN   \n",
       "1                                Yes   \n",
       "2                                 No   \n",
       "3                                 No   \n",
       "4                                 No   \n",
       "\n",
       "  In a row of three seats, who should get to use the two arm rests?  \\\n",
       "0                                                NaN                  \n",
       "1                     The arm rests should be shared                  \n",
       "2       Whoever puts their arm on the arm rest first                  \n",
       "3                     The arm rests should be shared                  \n",
       "4  The person in the middle seat gets both arm rests                  \n",
       "\n",
       "  In a row of two seats, who should get to use the middle arm rest?  \\\n",
       "0                                                NaN                  \n",
       "1                     The arm rests should be shared                  \n",
       "2                     The arm rests should be shared                  \n",
       "3                     The arm rests should be shared                  \n",
       "4                                The person in aisle                  \n",
       "\n",
       "      Who should have control over the window shade?  \\\n",
       "0                                                NaN   \n",
       "1           Everyone in the row should have some say   \n",
       "2  The person in the window seat should have excl...   \n",
       "3           Everyone in the row should have some say   \n",
       "4           Everyone in the row should have some say   \n",
       "\n",
       "  Is itrude to move to an unsold seat on a plane?  \\\n",
       "0                                             NaN   \n",
       "1                             No, not rude at all   \n",
       "2                             No, not rude at all   \n",
       "3                             No, not rude at all   \n",
       "4                             No, not rude at all   \n",
       "\n",
       "  Generally speaking, is it rude to say more than a few words tothe stranger sitting next to you on a plane?  \\\n",
       "0                                                NaN                                                           \n",
       "1                                No, not at all rude                                                           \n",
       "2                                No, not at all rude                                                           \n",
       "3                                No, not at all rude                                                           \n",
       "4                                No, not at all rude                                                           \n",
       "\n",
       "   ... Is itrude to wake a passenger up if you are trying to walk around?  \\\n",
       "0  ...                                                NaN                   \n",
       "1  ...                                No, not at all rude                   \n",
       "2  ...                                 Yes, somewhat rude                   \n",
       "3  ...                                 Yes, somewhat rude                   \n",
       "4  ...                                 Yes, somewhat rude                   \n",
       "\n",
       "  In general, is itrude to bring a baby on a plane?  \\\n",
       "0                                               NaN   \n",
       "1                               No, not at all rude   \n",
       "2                                Yes, somewhat rude   \n",
       "3                                Yes, somewhat rude   \n",
       "4                                Yes, somewhat rude   \n",
       "\n",
       "  In general, is it rude to knowingly bring unruly children on a plane?  \\\n",
       "0                                                NaN                      \n",
       "1                                No, not at all rude                      \n",
       "2                                     Yes, very rude                      \n",
       "3                                     Yes, very rude                      \n",
       "4                                     Yes, very rude                      \n",
       "\n",
       "  Have you ever used personal electronics during take off or landing in violation of a flight attendant's direction?  \\\n",
       "0                                                NaN                                                                   \n",
       "1                                                 No                                                                   \n",
       "2                                                 No                                                                   \n",
       "3                                                 No                                                                   \n",
       "4                                                Yes                                                                   \n",
       "\n",
       "  Have you ever smoked a cigarette in an airplane bathroom when it was against the rules?  \\\n",
       "0                                                NaN                                        \n",
       "1                                                 No                                        \n",
       "2                                                 No                                        \n",
       "3                                                 No                                        \n",
       "4                                                 No                                        \n",
       "\n",
       "  Gender    Age     Household Income        Education Location (Census Region)  \n",
       "0    NaN    NaN                  NaN              NaN                      NaN  \n",
       "1   Male  30-44                  NaN  Graduate degree                  Pacific  \n",
       "2   Male  30-44  $100,000 - $149,999  Bachelor degree                  Pacific  \n",
       "3   Male  30-44         $0 - $24,999  Bachelor degree                  Pacific  \n",
       "4   Male  30-44    $50,000 - $99,999  Bachelor degree                  Pacific  \n",
       "\n",
       "[5 rows x 27 columns]"
      ]
     },
     "execution_count": 59,
     "metadata": {},
     "output_type": "execute_result"
    }
   ],
   "source": [
    "flying_df.head()"
   ]
  },
  {
   "cell_type": "code",
   "execution_count": 60,
   "id": "c6feb83e-4daa-45b8-9ae9-3bb5279d15bd",
   "metadata": {},
   "outputs": [
    {
     "name": "stdout",
     "output_type": "stream",
     "text": [
      "<class 'pandas.core.frame.DataFrame'>\n",
      "RangeIndex: 1040 entries, 0 to 1039\n",
      "Data columns (total 27 columns):\n",
      " #   Column                                                                                                                                    Non-Null Count  Dtype \n",
      "---  ------                                                                                                                                    --------------  ----- \n",
      " 0   RespondentID                                                                                                                              1040 non-null   int64 \n",
      " 1   How often do you travel by plane?                                                                                                         1040 non-null   object\n",
      " 2   Do you ever recline your seat when you fly?                                                                                               858 non-null    object\n",
      " 3   How tall are you?                                                                                                                         858 non-null    object\n",
      " 4   Do you have any children under 18?                                                                                                        851 non-null    object\n",
      " 5   In a row of three seats, who should get to use the two arm rests?                                                                         856 non-null    object\n",
      " 6   In a row of two seats, who should get to use the middle arm rest?                                                                         856 non-null    object\n",
      " 7   Who should have control over the window shade?                                                                                            856 non-null    object\n",
      " 8   Is itrude to move to an unsold seat on a plane?                                                                                           855 non-null    object\n",
      " 9   Generally speaking, is it rude to say more than a few words tothe stranger sitting next to you on a plane?                                855 non-null    object\n",
      " 10  On a 6 hour flight from NYC to LA, how many times is it acceptable to get up if you're not in an aisle seat?                              855 non-null    object\n",
      " 11  Under normal circumstances, does a person who reclines their seat during a flight have any obligation to the person sitting behind them?  854 non-null    object\n",
      " 12  Is itrude to recline your seat on a plane?                                                                                                854 non-null    object\n",
      " 13  Given the opportunity, would you eliminate the possibility of reclining seats on planes entirely?                                         854 non-null    object\n",
      " 14  Is it rude to ask someone to switch seats with you in order to be closer to friends?                                                      850 non-null    object\n",
      " 15  Is itrude to ask someone to switch seats with you in order to be closer to family?                                                        850 non-null    object\n",
      " 16  Is it rude to wake a passenger up if you are trying to go to the bathroom?                                                                850 non-null    object\n",
      " 17  Is itrude to wake a passenger up if you are trying to walk around?                                                                        850 non-null    object\n",
      " 18  In general, is itrude to bring a baby on a plane?                                                                                         849 non-null    object\n",
      " 19  In general, is it rude to knowingly bring unruly children on a plane?                                                                     849 non-null    object\n",
      " 20  Have you ever used personal electronics during take off or landing in violation of a flight attendant's direction?                        849 non-null    object\n",
      " 21  Have you ever smoked a cigarette in an airplane bathroom when it was against the rules?                                                   849 non-null    object\n",
      " 22  Gender                                                                                                                                    1007 non-null   object\n",
      " 23  Age                                                                                                                                       1007 non-null   object\n",
      " 24  Household Income                                                                                                                          826 non-null    object\n",
      " 25  Education                                                                                                                                 1001 non-null   object\n",
      " 26  Location (Census Region)                                                                                                                  998 non-null    object\n",
      "dtypes: int64(1), object(26)\n",
      "memory usage: 219.5+ KB\n"
     ]
    }
   ],
   "source": [
    "flying_df.info()"
   ]
  },
  {
   "cell_type": "code",
   "execution_count": 61,
   "id": "1311d6b3-79aa-46ce-a9eb-f058984cace7",
   "metadata": {},
   "outputs": [],
   "source": [
    "flying_df['Height (Inches)'] = flying_df['How tall are you?']"
   ]
  },
  {
   "cell_type": "code",
   "execution_count": 62,
   "id": "c000789a-2828-4865-84ba-c37ea7d7e5ff",
   "metadata": {},
   "outputs": [
    {
     "data": {
      "text/plain": [
       "array([nan, '6\\'3\"', '5\\'8\"', '5\\'11\"', '5\\'7\"', '5\\'9\"', '6\\'2\"',\n",
       "       '6\\'0\"', '5\\'6\"', '6\\'1\"', '5\\'10\"', '5\\'5\"', '6\\'4\"',\n",
       "       '6\\'6\" and above', 'Under 5 ft.', '6\\'5\"', '5\\'4\"', '5\\'0\"',\n",
       "       '5\\'3\"', '5\\'1\"', '5\\'2\"'], dtype=object)"
      ]
     },
     "execution_count": 62,
     "metadata": {},
     "output_type": "execute_result"
    }
   ],
   "source": [
    "flying_df['Height (Inches)'].unique()"
   ]
  },
  {
   "cell_type": "code",
   "execution_count": 63,
   "id": "765dbaaf-dc1b-4d1c-8bb3-bb9034fac2a6",
   "metadata": {},
   "outputs": [],
   "source": [
    "flying_df.loc[flying_df['Height (Inches)'] == 'Under 5 ft.', 'Height (Inches)'] = '5\\'0\"'"
   ]
  },
  {
   "cell_type": "code",
   "execution_count": 64,
   "id": "6c62d8bd-c375-40c7-adad-9cff628b6d1b",
   "metadata": {},
   "outputs": [],
   "source": [
    "flying_df.loc[flying_df['Height (Inches)'] == '6\\'6\" and above', 'Height (Inches)'] = '6\\'6\"'"
   ]
  },
  {
   "cell_type": "code",
   "execution_count": 65,
   "id": "824ec233-a141-4210-b6d4-8c50de1f1df0",
   "metadata": {},
   "outputs": [],
   "source": [
    "flying_df = flying_df.dropna(how='any')"
   ]
  },
  {
   "cell_type": "code",
   "execution_count": 66,
   "id": "779c7279-8fc2-4612-b0a0-2bd26ebd5f3f",
   "metadata": {},
   "outputs": [],
   "source": [
    "def convert_to_inches(value):\n",
    "    adjusted_height = value.strip(\"\\\"\")\n",
    "    feet_inches = adjusted_height.split(\"'\")\n",
    "    return ((int(feet_inches[0]) * 12) + int(feet_inches[1]))\n",
    "\n",
    "flying_df['Height (Inches)'] = flying_df['Height (Inches)'].apply(convert_to_inches)"
   ]
  },
  {
   "cell_type": "code",
   "execution_count": 67,
   "id": "c7a72d3d-7916-437b-a491-25e46ec43c4c",
   "metadata": {},
   "outputs": [
    {
     "data": {
      "text/plain": [
       "array([68, 71, 67, 69, 74, 72, 66, 73, 70, 65, 76, 60, 77, 75, 64, 63, 61,\n",
       "       62])"
      ]
     },
     "execution_count": 67,
     "metadata": {},
     "output_type": "execute_result"
    }
   ],
   "source": [
    "flying_df['Height (Inches)'].unique()"
   ]
  },
  {
   "cell_type": "code",
   "execution_count": 68,
   "id": "695d701a-4fe1-4d5c-a368-162edc25bf60",
   "metadata": {},
   "outputs": [
    {
     "data": {
      "text/plain": [
       "array(['30-44', '18-29', '45-60', '> 60'], dtype=object)"
      ]
     },
     "execution_count": 68,
     "metadata": {},
     "output_type": "execute_result"
    }
   ],
   "source": [
    "flying_df['Age'].unique()"
   ]
  },
  {
   "cell_type": "code",
   "execution_count": 69,
   "id": "7ed6c91d-7843-40a1-9b80-647846acd4c0",
   "metadata": {},
   "outputs": [
    {
     "data": {
      "text/plain": [
       "[Text(0.5, 1.0, 'Survey Age Group by Percent')]"
      ]
     },
     "execution_count": 69,
     "metadata": {},
     "output_type": "execute_result"
    },
    {
     "data": {
      "image/png": "[encoded data removed]",
      "text/plain": [
       "<Figure size 640x480 with 1 Axes>"
      ]
     },
     "metadata": {},
     "output_type": "display_data"
    }
   ],
   "source": [
    "ordered_ages = ['18-29', '30-44', '45-60', '> 60']\n",
    "sns.countplot(data=flying_df, x='Age', order=ordered_ages, stat='percent').set(title='Survey Age Group by Percent')"
   ]
  },
  {
   "cell_type": "code",
   "execution_count": 70,
   "id": "ad494cc5-8fe8-45ef-9a43-b83276c5ecb7",
   "metadata": {},
   "outputs": [
    {
     "data": {
      "text/plain": [
       "[Text(0.5, 0, 'Response'),\n",
       " Text(0.5, 1.0, 'Is it rude to ask someone to switch seats with you in order to be closer to friends?')]"
      ]
     },
     "execution_count": 70,
     "metadata": {},
     "output_type": "execute_result"
    },
    {
     "data": {
      "image/png": "[encoded data removed]",
      "text/plain": [
       "<Figure size 640x480 with 1 Axes>"
      ]
     },
     "metadata": {},
     "output_type": "display_data"
    }
   ],
   "source": [
    "rude_question = 'Is it rude to ask someone to switch seats with you in order to be closer to friends?'\n",
    "sns.countplot(data=flying_df, x=rude_question, hue='Age', hue_order=ordered_ages).set(xlabel='Response', title=rude_question)"
   ]
  },
  {
   "cell_type": "code",
   "execution_count": 71,
   "id": "0bdef9f3",
   "metadata": {},
   "outputs": [
    {
     "data": {
      "text/plain": [
       "array(['Usually', 'Always', 'About half the time', 'Once in a while',\n",
       "       'Never'], dtype=object)"
      ]
     },
     "execution_count": 71,
     "metadata": {},
     "output_type": "execute_result"
    }
   ],
   "source": [
    "recline_ques = 'Do you ever recline your seat when you fly?'\n",
    "flying_df[recline_ques].unique()"
   ]
  },
  {
   "cell_type": "code",
   "execution_count": 72,
   "id": "458b649f",
   "metadata": {},
   "outputs": [
    {
     "name": "stderr",
     "output_type": "stream",
     "text": [
      "/var/folders/bn/r234zn0d75qf_wgd0b0mw7s00000gn/T/ipykernel_4131/2319947444.py:3: UserWarning: set_ticklabels() should only be used with a fixed number of ticks, i.e. after set_ticks() or using a FixedLocator.\n",
      "  ax.set_xticklabels(ax.get_xticklabels(), rotation=40)\n"
     ]
    },
    {
     "data": {
      "text/plain": [
       "[Text(0.5, 1.0, 'Seat Reclining Versus Height in Inches')]"
      ]
     },
     "execution_count": 72,
     "metadata": {},
     "output_type": "execute_result"
    },
    {
     "data": {
      "image/png": "[encoded data removed]",
      "text/plain": [
       "<Figure size 640x480 with 1 Axes>"
      ]
     },
     "metadata": {},
     "output_type": "display_data"
    }
   ],
   "source": [
    "recline_order = ['Never', 'Once in a while', 'About half the time', 'Usually', 'Always']\n",
    "ax = sns.boxplot(data=flying_df, x=recline_ques, y='Height (Inches)', )\n",
    "ax.set_xticklabels(ax.get_xticklabels(), rotation=40)\n",
    "ax.set(title='Seat Reclining Versus Height in Inches')"
   ]
  },
  {
   "cell_type": "code",
   "execution_count": null,
   "id": "7db6c3c9",
   "metadata": {},
   "outputs": [],
   "source": []
  },
  {
   "cell_type": "code",
   "execution_count": null,
   "id": "a0a9f2ae",
   "metadata": {},
   "outputs": [],
   "source": []
  },
  {
   "cell_type": "code",
   "execution_count": null,
   "id": "b7897392",
   "metadata": {},
   "outputs": [],
   "source": []
  }
 ],
 "metadata": {
  "kernelspec": {
   "display_name": "Python 3 (ipykernel)",
   "language": "python",
   "name": "python3"
  },
  "language_info": {
   "codemirror_mode": {
    "name": "ipython",
    "version": 3
   },
   "file_extension": ".py",
   "mimetype": "text/x-python",
   "name": "python",
   "nbconvert_exporter": "python",
   "pygments_lexer": "ipython3",
   "version": "3.11.7"
  }
 },
 "nbformat": 4,
 "nbformat_minor": 5
}
